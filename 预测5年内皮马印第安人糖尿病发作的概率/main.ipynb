{
 "cells": [
  {
   "cell_type": "markdown",
   "metadata": {},
   "source": [
    "请点击[此处](https://ai.baidu.com/docs#/AIStudio_Project_Notebook/a38e5576)查看本环境基本用法.  <br>\n",
    "Please click [here ](https://ai.baidu.com/docs#/AIStudio_Project_Notebook/a38e5576) for more detailed instructions. "
   ]
  },
  {
   "cell_type": "code",
   "execution_count": 1,
   "metadata": {
    "execution": {
     "iopub.execute_input": "2022-07-01T13:51:28.127836Z",
     "iopub.status.busy": "2022-07-01T13:51:28.127466Z",
     "iopub.status.idle": "2022-07-01T13:51:29.880968Z",
     "shell.execute_reply": "2022-07-01T13:51:29.880078Z",
     "shell.execute_reply.started": "2022-07-01T13:51:28.127810Z"
    },
    "scrolled": true
   },
   "outputs": [],
   "source": [
    "import pandas as pd\n",
    "import numpy as np\n",
    "import matplotlib.pyplot as plt\n",
    "from sklearn.model_selection import cross_val_score\n",
    "from sklearn.model_selection import train_test_split\n",
    "from sklearn.model_selection import GridSearchCV\n",
    "from sklearn.metrics import make_scorer,accuracy_score\n",
    "from sklearn import tree\n",
    "from sklearn.ensemble import RandomForestClassifier\n",
    "from sklearn.tree import DecisionTreeClassifier\n",
    "import graphviz"
   ]
  },
  {
   "cell_type": "code",
   "execution_count": 2,
   "metadata": {
    "execution": {
     "iopub.execute_input": "2022-07-01T13:51:29.883740Z",
     "iopub.status.busy": "2022-07-01T13:51:29.883070Z",
     "iopub.status.idle": "2022-07-01T13:51:29.905509Z",
     "shell.execute_reply": "2022-07-01T13:51:29.904748Z",
     "shell.execute_reply.started": "2022-07-01T13:51:29.883708Z"
    },
    "scrolled": true
   },
   "outputs": [
    {
     "data": {
      "text/html": [
       "<div>\n",
       "<style scoped>\n",
       "    .dataframe tbody tr th:only-of-type {\n",
       "        vertical-align: middle;\n",
       "    }\n",
       "\n",
       "    .dataframe tbody tr th {\n",
       "        vertical-align: top;\n",
       "    }\n",
       "\n",
       "    .dataframe thead th {\n",
       "        text-align: right;\n",
       "    }\n",
       "</style>\n",
       "<table border=\"1\" class=\"dataframe\">\n",
       "  <thead>\n",
       "    <tr style=\"text-align: right;\">\n",
       "      <th></th>\n",
       "      <th>Pregnancies</th>\n",
       "      <th>Glucose</th>\n",
       "      <th>BloodPressure</th>\n",
       "      <th>SkinThickness</th>\n",
       "      <th>Insulin</th>\n",
       "      <th>BMI</th>\n",
       "      <th>DiabetesPedigreeFunction</th>\n",
       "      <th>Age</th>\n",
       "      <th>Outcome</th>\n",
       "    </tr>\n",
       "  </thead>\n",
       "  <tbody>\n",
       "    <tr>\n",
       "      <th>0</th>\n",
       "      <td>6</td>\n",
       "      <td>148</td>\n",
       "      <td>72</td>\n",
       "      <td>35</td>\n",
       "      <td>0</td>\n",
       "      <td>33.6</td>\n",
       "      <td>0.627</td>\n",
       "      <td>50</td>\n",
       "      <td>1</td>\n",
       "    </tr>\n",
       "    <tr>\n",
       "      <th>1</th>\n",
       "      <td>1</td>\n",
       "      <td>85</td>\n",
       "      <td>66</td>\n",
       "      <td>29</td>\n",
       "      <td>0</td>\n",
       "      <td>26.6</td>\n",
       "      <td>0.351</td>\n",
       "      <td>31</td>\n",
       "      <td>0</td>\n",
       "    </tr>\n",
       "    <tr>\n",
       "      <th>2</th>\n",
       "      <td>8</td>\n",
       "      <td>183</td>\n",
       "      <td>64</td>\n",
       "      <td>0</td>\n",
       "      <td>0</td>\n",
       "      <td>23.3</td>\n",
       "      <td>0.672</td>\n",
       "      <td>32</td>\n",
       "      <td>1</td>\n",
       "    </tr>\n",
       "    <tr>\n",
       "      <th>3</th>\n",
       "      <td>1</td>\n",
       "      <td>89</td>\n",
       "      <td>66</td>\n",
       "      <td>23</td>\n",
       "      <td>94</td>\n",
       "      <td>28.1</td>\n",
       "      <td>0.167</td>\n",
       "      <td>21</td>\n",
       "      <td>0</td>\n",
       "    </tr>\n",
       "    <tr>\n",
       "      <th>4</th>\n",
       "      <td>0</td>\n",
       "      <td>137</td>\n",
       "      <td>40</td>\n",
       "      <td>35</td>\n",
       "      <td>168</td>\n",
       "      <td>43.1</td>\n",
       "      <td>2.288</td>\n",
       "      <td>33</td>\n",
       "      <td>1</td>\n",
       "    </tr>\n",
       "    <tr>\n",
       "      <th>...</th>\n",
       "      <td>...</td>\n",
       "      <td>...</td>\n",
       "      <td>...</td>\n",
       "      <td>...</td>\n",
       "      <td>...</td>\n",
       "      <td>...</td>\n",
       "      <td>...</td>\n",
       "      <td>...</td>\n",
       "      <td>...</td>\n",
       "    </tr>\n",
       "    <tr>\n",
       "      <th>763</th>\n",
       "      <td>10</td>\n",
       "      <td>101</td>\n",
       "      <td>76</td>\n",
       "      <td>48</td>\n",
       "      <td>180</td>\n",
       "      <td>32.9</td>\n",
       "      <td>0.171</td>\n",
       "      <td>63</td>\n",
       "      <td>0</td>\n",
       "    </tr>\n",
       "    <tr>\n",
       "      <th>764</th>\n",
       "      <td>2</td>\n",
       "      <td>122</td>\n",
       "      <td>70</td>\n",
       "      <td>27</td>\n",
       "      <td>0</td>\n",
       "      <td>36.8</td>\n",
       "      <td>0.340</td>\n",
       "      <td>27</td>\n",
       "      <td>0</td>\n",
       "    </tr>\n",
       "    <tr>\n",
       "      <th>765</th>\n",
       "      <td>5</td>\n",
       "      <td>121</td>\n",
       "      <td>72</td>\n",
       "      <td>23</td>\n",
       "      <td>112</td>\n",
       "      <td>26.2</td>\n",
       "      <td>0.245</td>\n",
       "      <td>30</td>\n",
       "      <td>0</td>\n",
       "    </tr>\n",
       "    <tr>\n",
       "      <th>766</th>\n",
       "      <td>1</td>\n",
       "      <td>126</td>\n",
       "      <td>60</td>\n",
       "      <td>0</td>\n",
       "      <td>0</td>\n",
       "      <td>30.1</td>\n",
       "      <td>0.349</td>\n",
       "      <td>47</td>\n",
       "      <td>1</td>\n",
       "    </tr>\n",
       "    <tr>\n",
       "      <th>767</th>\n",
       "      <td>1</td>\n",
       "      <td>93</td>\n",
       "      <td>70</td>\n",
       "      <td>31</td>\n",
       "      <td>0</td>\n",
       "      <td>30.4</td>\n",
       "      <td>0.315</td>\n",
       "      <td>23</td>\n",
       "      <td>0</td>\n",
       "    </tr>\n",
       "  </tbody>\n",
       "</table>\n",
       "<p>768 rows × 9 columns</p>\n",
       "</div>"
      ],
      "text/plain": [
       "     Pregnancies  Glucose  BloodPressure  SkinThickness  Insulin   BMI  \\\n",
       "0              6      148             72             35        0  33.6   \n",
       "1              1       85             66             29        0  26.6   \n",
       "2              8      183             64              0        0  23.3   \n",
       "3              1       89             66             23       94  28.1   \n",
       "4              0      137             40             35      168  43.1   \n",
       "..           ...      ...            ...            ...      ...   ...   \n",
       "763           10      101             76             48      180  32.9   \n",
       "764            2      122             70             27        0  36.8   \n",
       "765            5      121             72             23      112  26.2   \n",
       "766            1      126             60              0        0  30.1   \n",
       "767            1       93             70             31        0  30.4   \n",
       "\n",
       "     DiabetesPedigreeFunction  Age  Outcome  \n",
       "0                       0.627   50        1  \n",
       "1                       0.351   31        0  \n",
       "2                       0.672   32        1  \n",
       "3                       0.167   21        0  \n",
       "4                       2.288   33        1  \n",
       "..                        ...  ...      ...  \n",
       "763                     0.171   63        0  \n",
       "764                     0.340   27        0  \n",
       "765                     0.245   30        0  \n",
       "766                     0.349   47        1  \n",
       "767                     0.315   23        0  \n",
       "\n",
       "[768 rows x 9 columns]"
      ]
     },
     "execution_count": 2,
     "metadata": {},
     "output_type": "execute_result"
    }
   ],
   "source": [
    "# 加载数据集\n",
    "data = pd.read_csv(\"diabetes.csv\")\n",
    "data"
   ]
  },
  {
   "cell_type": "code",
   "execution_count": 3,
   "metadata": {
    "execution": {
     "iopub.execute_input": "2022-07-01T13:51:29.907276Z",
     "iopub.status.busy": "2022-07-01T13:51:29.906591Z",
     "iopub.status.idle": "2022-07-01T13:51:29.914297Z",
     "shell.execute_reply": "2022-07-01T13:51:29.913640Z",
     "shell.execute_reply.started": "2022-07-01T13:51:29.907247Z"
    },
    "scrolled": true
   },
   "outputs": [
    {
     "name": "stdout",
     "output_type": "stream",
     "text": [
      "[[  6.    148.     72.    ...  33.6     0.627  50.   ]\n",
      " [  1.     85.     66.    ...  26.6     0.351  31.   ]\n",
      " [  8.    183.     64.    ...  23.3     0.672  32.   ]\n",
      " ...\n",
      " [  5.    121.     72.    ...  26.2     0.245  30.   ]\n",
      " [  1.    126.     60.    ...  30.1     0.349  47.   ]\n",
      " [  1.     93.     70.    ...  30.4     0.315  23.   ]]\n",
      "[1 0 1 0 1 0 1 0 1 1 0 1 0 1 1 1 1 1 0 1 0 0 1 1 1 1 1 0 0 0 0 1 0 0 0 0 0\n",
      " 1 1 1 0 0 0 1 0 1 0 0 1 0 0 0 0 1 0 0 1 0 0 0 0 1 0 0 1 0 1 0 0 0 1 0 1 0\n",
      " 0 0 0 0 1 0 0 0 0 0 1 0 0 0 1 0 0 0 0 1 0 0 0 0 0 1 1 0 0 0 0 0 0 0 0 1 1\n",
      " 1 0 0 1 1 1 0 0 0 1 0 0 0 1 1 0 0 1 1 1 1 1 0 0 0 0 0 0 0 0 0 0 1 0 0 0 0\n",
      " 0 0 0 0 1 0 1 1 0 0 0 1 0 0 0 0 1 1 0 0 0 0 1 1 0 0 0 1 0 1 0 1 0 0 0 0 0\n",
      " 1 1 1 1 1 0 0 1 1 0 1 0 1 1 1 0 0 0 0 0 0 1 1 0 1 0 0 0 1 1 1 1 0 1 1 1 1\n",
      " 0 0 0 0 0 1 0 0 1 1 0 0 0 1 1 1 1 0 0 0 1 1 0 1 0 0 0 0 0 0 0 0 1 1 0 0 0\n",
      " 1 0 1 0 0 1 0 1 0 0 1 1 0 0 0 0 0 1 0 0 0 1 0 0 1 1 0 0 1 0 0 0 1 1 1 0 0\n",
      " 1 0 1 0 1 1 0 1 0 0 1 0 1 1 0 0 1 0 1 0 0 1 0 1 0 1 1 1 0 0 1 0 1 0 0 0 1\n",
      " 0 0 0 0 1 1 1 0 0 0 0 0 0 0 0 0 1 0 0 0 0 0 1 1 1 0 1 1 0 0 1 0 0 1 0 0 1\n",
      " 1 0 0 0 0 1 0 0 1 0 0 0 0 0 0 0 1 1 1 0 0 1 0 0 1 0 0 1 0 1 1 0 1 0 1 0 1\n",
      " 0 1 1 0 0 0 0 1 1 0 1 0 1 0 0 0 0 1 1 0 1 0 1 0 0 0 0 0 1 0 0 0 0 1 0 0 1\n",
      " 1 1 0 0 1 0 0 1 0 0 0 1 0 0 1 0 0 0 0 0 0 0 0 0 1 0 0 0 0 0 0 0 1 0 0 0 1\n",
      " 0 0 0 1 1 0 0 0 0 0 0 0 1 0 0 0 0 1 0 0 0 1 0 0 0 1 0 0 0 1 0 0 0 0 1 1 0\n",
      " 0 0 0 0 0 1 0 0 0 0 0 0 0 0 0 0 0 1 0 0 0 1 1 1 1 0 0 1 1 0 0 0 0 0 0 0 0\n",
      " 0 0 0 0 0 1 1 0 0 0 0 0 0 0 1 0 0 0 0 0 0 0 1 0 1 1 0 0 0 1 0 1 0 1 0 1 0\n",
      " 1 0 0 1 0 0 1 0 0 0 0 1 1 0 1 0 0 0 0 1 1 0 1 0 0 0 1 1 0 0 0 0 0 0 0 0 0\n",
      " 0 1 0 0 0 0 1 0 0 1 0 0 0 1 0 0 0 1 1 1 0 0 0 0 0 0 1 0 0 0 1 0 1 1 1 1 0\n",
      " 1 1 0 0 0 0 0 0 0 1 1 0 1 0 0 1 0 1 0 0 0 0 0 1 0 1 0 1 0 1 1 0 0 0 0 1 1\n",
      " 0 0 0 1 0 1 1 0 0 1 0 0 1 1 0 0 1 0 0 1 0 0 0 0 0 0 0 1 1 1 0 0 0 0 0 0 1\n",
      " 1 0 0 1 0 0 1 0 1 1 1 0 0 1 1 1 0 1 0 1 0 1 0 0 0 0 1 0]\n"
     ]
    }
   ],
   "source": [
    "x = data.iloc[:,:-1].values\n",
    "y = data.iloc[:,-1].values\n",
    "print(x)\n",
    "print(y)"
   ]
  },
  {
   "cell_type": "code",
   "execution_count": 4,
   "metadata": {
    "execution": {
     "iopub.execute_input": "2022-07-01T13:51:29.915759Z",
     "iopub.status.busy": "2022-07-01T13:51:29.915199Z",
     "iopub.status.idle": "2022-07-01T13:51:30.024855Z",
     "shell.execute_reply": "2022-07-01T13:51:30.024026Z",
     "shell.execute_reply.started": "2022-07-01T13:51:29.915735Z"
    },
    "scrolled": true
   },
   "outputs": [],
   "source": [
    "# 定义决策树模型，采用10折交叉验证\n",
    "model_dtc = DecisionTreeClassifier(criterion='entropy',max_depth=5)\n",
    "acc_score_dtc = cross_val_score(model_dtc,x,y,cv=10,scoring='accuracy') # 准确率\n",
    "precision_score_dtc = cross_val_score(model_dtc,x,y,cv=10,scoring='precision')  # 精确率\n",
    "recall_score_dtc = cross_val_score(model_dtc,x,y,cv=10,scoring='recall')  # 召回率"
   ]
  },
  {
   "cell_type": "code",
   "execution_count": 5,
   "metadata": {
    "execution": {
     "iopub.execute_input": "2022-07-01T13:51:30.026636Z",
     "iopub.status.busy": "2022-07-01T13:51:30.025891Z",
     "iopub.status.idle": "2022-07-01T13:51:30.031381Z",
     "shell.execute_reply": "2022-07-01T13:51:30.030693Z",
     "shell.execute_reply.started": "2022-07-01T13:51:30.026608Z"
    },
    "scrolled": true
   },
   "outputs": [
    {
     "data": {
      "text/plain": [
       "array([0.7012987 , 0.72727273, 0.68831169, 0.67532468, 0.75324675,\n",
       "       0.81818182, 0.71428571, 0.79220779, 0.76315789, 0.75      ])"
      ]
     },
     "execution_count": 5,
     "metadata": {},
     "output_type": "execute_result"
    }
   ],
   "source": [
    "acc_score_dtc"
   ]
  },
  {
   "cell_type": "code",
   "execution_count": 6,
   "metadata": {
    "execution": {
     "iopub.execute_input": "2022-07-01T13:51:30.032585Z",
     "iopub.status.busy": "2022-07-01T13:51:30.032311Z",
     "iopub.status.idle": "2022-07-01T13:51:30.105856Z",
     "shell.execute_reply": "2022-07-01T13:51:30.105036Z",
     "shell.execute_reply.started": "2022-07-01T13:51:30.032560Z"
    },
    "scrolled": true
   },
   "outputs": [
    {
     "data": {
      "text/plain": [
       "'iris.pdf'"
      ]
     },
     "execution_count": 6,
     "metadata": {},
     "output_type": "execute_result"
    }
   ],
   "source": [
    "# 可视化决策树的结构\n",
    "feature_name = data.columns.values[:-1]\n",
    "x_train,x_test,y_train,y_test = train_test_split(x,y,test_size=0.3)\n",
    "model_dtc.fit(x_train,y_train)\n",
    "dot_data = tree.export_graphviz(model_dtc\n",
    "                                ,out_file= None\n",
    "                                ,feature_names = feature_name\n",
    "                                ,class_names=['class_0','class_1']\n",
    "                                ,filled=True\n",
    "                                ,rounded=True\n",
    "                               )\n",
    "graph = graphviz.Source(dot_data)\n",
    "graph.render(\"iris\")"
   ]
  },
  {
   "cell_type": "code",
   "execution_count": 7,
   "metadata": {
    "execution": {
     "iopub.execute_input": "2022-07-01T13:51:30.107401Z",
     "iopub.status.busy": "2022-07-01T13:51:30.107011Z",
     "iopub.status.idle": "2022-07-01T13:51:30.111910Z",
     "shell.execute_reply": "2022-07-01T13:51:30.111268Z",
     "shell.execute_reply.started": "2022-07-01T13:51:30.107374Z"
    },
    "scrolled": true
   },
   "outputs": [],
   "source": [
    "# 创建随机森林对象\n",
    "rfClassifier = RandomForestClassifier()\n",
    "\n",
    "# 网络搜索的模型候选参数，即随机森林的候选参数\n",
    "paramGrid = dict(\n",
    "    max_depth = [1,2,3,4,5],             # 最大数深度候选值\n",
    "    criterion = [\"gini\",\"entropy\"],      # 评选节点分裂的候选标准\n",
    "    max_leaf_nodes = [3,4,5,6,7,8],      # 最大叶子数候选值\n",
    "    n_estimators = [10,50,100,150,200]   # 森林中树的候选数量\n",
    ")"
   ]
  },
  {
   "cell_type": "code",
   "execution_count": 8,
   "metadata": {
    "execution": {
     "iopub.execute_input": "2022-07-01T13:51:30.113104Z",
     "iopub.status.busy": "2022-07-01T13:51:30.112785Z",
     "iopub.status.idle": "2022-07-01T13:51:30.116667Z",
     "shell.execute_reply": "2022-07-01T13:51:30.116062Z",
     "shell.execute_reply.started": "2022-07-01T13:51:30.113082Z"
    },
    "scrolled": true
   },
   "outputs": [],
   "source": [
    "# 创建网络搜索对象\n",
    "gridSearchCV = GridSearchCV(\n",
    "    rfClassifier,param_grid=paramGrid,\n",
    "    cv=10,verbose=1,n_jobs=2,scoring=make_scorer(accuracy_score)\n",
    ")"
   ]
  },
  {
   "cell_type": "code",
   "execution_count": 9,
   "metadata": {
    "execution": {
     "iopub.execute_input": "2022-07-01T13:51:30.117822Z",
     "iopub.status.busy": "2022-07-01T13:51:30.117502Z",
     "iopub.status.idle": "2022-07-01T13:55:11.357682Z",
     "shell.execute_reply": "2022-07-01T13:55:11.356692Z",
     "shell.execute_reply.started": "2022-07-01T13:51:30.117799Z"
    },
    "scrolled": true
   },
   "outputs": [
    {
     "name": "stdout",
     "output_type": "stream",
     "text": [
      "Fitting 10 folds for each of 300 candidates, totalling 3000 fits\n"
     ]
    },
    {
     "name": "stderr",
     "output_type": "stream",
     "text": [
      "[Parallel(n_jobs=2)]: Using backend LokyBackend with 2 concurrent workers.\n",
      "[Parallel(n_jobs=2)]: Done 128 tasks      | elapsed:    8.3s\n",
      "[Parallel(n_jobs=2)]: Done 728 tasks      | elapsed:   49.8s\n",
      "[Parallel(n_jobs=2)]: Done 1728 tasks      | elapsed:  2.0min\n"
     ]
    },
    {
     "name": "stdout",
     "output_type": "stream",
     "text": [
      "0.7682672590567327\n",
      "{'criterion': 'gini', 'max_depth': 4, 'max_leaf_nodes': 7, 'n_estimators': 100}\n"
     ]
    },
    {
     "name": "stderr",
     "output_type": "stream",
     "text": [
      "[Parallel(n_jobs=2)]: Done 3000 out of 3000 | elapsed:  3.7min finished\n"
     ]
    }
   ],
   "source": [
    "# 开始进行网络搜索，寻找最优参数\n",
    "grid = gridSearchCV.fit(x,y)\n",
    "print(grid.best_score_)   # 打印最优准确率得分\n",
    "print(grid.best_params_)  # 打印最优超参数\n",
    "\n",
    "# 得到最优超参数：'max_depth': 3, 'max_leaf_nodes': 8, 'n_estimators': 150"
   ]
  },
  {
   "cell_type": "code",
   "execution_count": 10,
   "metadata": {
    "execution": {
     "iopub.execute_input": "2022-07-01T13:55:11.359470Z",
     "iopub.status.busy": "2022-07-01T13:55:11.359009Z",
     "iopub.status.idle": "2022-07-01T13:55:11.363637Z",
     "shell.execute_reply": "2022-07-01T13:55:11.362875Z",
     "shell.execute_reply.started": "2022-07-01T13:55:11.359438Z"
    },
    "scrolled": true
   },
   "outputs": [],
   "source": [
    "trees = []   # 存放树的数量\n",
    "errs = []    # 存放错误率\n",
    "accs = []    # 准确率"
   ]
  },
  {
   "cell_type": "code",
   "execution_count": 11,
   "metadata": {
    "execution": {
     "iopub.execute_input": "2022-07-01T13:55:11.367604Z",
     "iopub.status.busy": "2022-07-01T13:55:11.367214Z",
     "iopub.status.idle": "2022-07-01T13:55:14.912232Z",
     "shell.execute_reply": "2022-07-01T13:55:14.911324Z",
     "shell.execute_reply.started": "2022-07-01T13:55:11.367576Z"
    },
    "scrolled": true
   },
   "outputs": [
    {
     "data": {
      "text/plain": [
       "<matplotlib.axes._subplots.AxesSubplot at 0x7efe8a4be690>"
      ]
     },
     "execution_count": 11,
     "metadata": {},
     "output_type": "execute_result"
    },
    {
     "data": {
      "image/png": "[encoded data removed]",
      "text/plain": [
       "<Figure size 720x360 with 1 Axes>"
      ]
     },
     "metadata": {
      "needs_background": "light"
     },
     "output_type": "display_data"
    }
   ],
   "source": [
    "# 划分训练集喝测试集\n",
    "x_train,x_test,y_train,y_test = train_test_split(x,y,test_size=0.2)\n",
    "t_num = list(range(0,200,10))\n",
    "t_num = [i+10 for i in t_num]\n",
    "t_num = list([1]+t_num)\n",
    "for t in t_num:\n",
    "    trees.append(t)\n",
    "    # 创建随机森林\n",
    "    rfClassifier = RandomForestClassifier(max_depth=3,max_leaf_nodes=8,criterion=\"gini\",n_estimators=t)\n",
    "    # 使用训练集训练模型\n",
    "    rfClassifier.fit(x_train,y_train)\n",
    "    # 使用训练后的模型进行预测\n",
    "    y_test_predict = rfClassifier.predict(x_test)\n",
    "    # 计算准确率\n",
    "    acc = accuracy_score(y_true=y_test,y_pred=y_test_predict)\n",
    "    # 准确率\n",
    "    accs.append(acc)\n",
    "    # 计算错误率\n",
    "    err = 1-acc\n",
    "    errs.append(err)\n",
    "    \n",
    "df = pd.DataFrame({\n",
    "    \"trees\":trees,\n",
    "    \"errs\":errs,\n",
    "    \"accs\":accs\n",
    "})\n",
    "\n",
    "df.plot(x=\"trees\",y=\"errs\",figsize=(10,5))"
   ]
  },
  {
   "cell_type": "code",
   "execution_count": 12,
   "metadata": {
    "execution": {
     "iopub.execute_input": "2022-07-01T13:55:14.914090Z",
     "iopub.status.busy": "2022-07-01T13:55:14.913473Z",
     "iopub.status.idle": "2022-07-01T13:55:14.919077Z",
     "shell.execute_reply": "2022-07-01T13:55:14.918324Z",
     "shell.execute_reply.started": "2022-07-01T13:55:14.914057Z"
    },
    "scrolled": true,
    "tags": []
   },
   "outputs": [
    {
     "name": "stdout",
     "output_type": "stream",
     "text": [
      "随机森林准确率： 0.7922077922077922\n",
      "决策树准确率： 0.7383287764866713\n"
     ]
    }
   ],
   "source": [
    "print(\"随机森林准确率：\",acc)\n",
    "print(\"决策树准确率：\",acc_score_dtc.mean())\n"
   ]
  }
 ],
 "metadata": {
  "kernelspec": {
   "display_name": "Python 3",
   "language": "python",
   "name": "py35-paddle1.2.0"
  },
  "language_info": {
   "codemirror_mode": {
    "name": "ipython",
    "version": 3
   },
   "file_extension": ".py",
   "mimetype": "text/x-python",
   "name": "python",
   "nbconvert_exporter": "python",
   "pygments_lexer": "ipython3",
   "version": "3.7.4"
  }
 },
 "nbformat": 4,
 "nbformat_minor": 4
}
