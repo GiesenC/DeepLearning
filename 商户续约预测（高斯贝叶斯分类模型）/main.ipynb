{
 "cells": [
  {
   "cell_type": "markdown",
   "metadata": {},
   "source": [
    "请点击[此处](https://ai.baidu.com/docs#/AIStudio_Project_Notebook/a38e5576)查看本环境基本用法.  <br>\n",
    "Please click [here ](https://ai.baidu.com/docs#/AIStudio_Project_Notebook/a38e5576) for more detailed instructions. "
   ]
  },
  {
   "cell_type": "code",
   "execution_count": 1,
   "metadata": {
    "execution": {
     "iopub.execute_input": "2022-05-11T09:10:13.417382Z",
     "iopub.status.busy": "2022-05-11T09:10:13.416801Z",
     "iopub.status.idle": "2022-05-11T09:10:14.972460Z",
     "shell.execute_reply": "2022-05-11T09:10:14.971182Z",
     "shell.execute_reply.started": "2022-05-11T09:10:13.417348Z"
    },
    "scrolled": true,
    "tags": []
   },
   "outputs": [],
   "source": [
    "import pandas as pd\n",
    "from sklearn.naive_bayes import GaussianNB\n",
    "from sklearn.model_selection import cross_val_score,train_test_split\n",
    "from sklearn.metrics import make_scorer,accuracy_score,confusion_matrix\n",
    "import seaborn as sns\n",
    "import matplotlib.pyplot as plt\n",
    "\n",
    "#解决中文乱码问题\n",
    "plt.rcParams['font.sans-serif'] = ['FZSongYi-Z13S']\n",
    "#解决负号无法正常显示的问题\n",
    "plt.rcParams['axes.unicode_minus']=False\n"
   ]
  },
  {
   "cell_type": "code",
   "execution_count": 2,
   "metadata": {
    "execution": {
     "iopub.execute_input": "2022-05-11T09:10:14.975593Z",
     "iopub.status.busy": "2022-05-11T09:10:14.975188Z",
     "iopub.status.idle": "2022-05-11T09:10:14.997337Z",
     "shell.execute_reply": "2022-05-11T09:10:14.996486Z",
     "shell.execute_reply.started": "2022-05-11T09:10:14.975559Z"
    },
    "scrolled": false,
    "tags": []
   },
   "outputs": [
    {
     "name": "stdout",
     "output_type": "stream",
     "text": [
      "<bound method DataFrame.info of          ID  注册时长  营收收入        成本 是否续约\n",
      "0     10001    29    46   8.33316   续约\n",
      "1     10002    58   105  18.24564   续约\n",
      "2     10003    36    55   3.13296   续约\n",
      "3     10004    32    28   9.96705   续约\n",
      "4     10005    26    32   7.19040  不续约\n",
      "...     ...   ...   ...       ...  ...\n",
      "1495  11496    36    87   9.76910   续约\n",
      "1496  11497    39    45   1.65636   续约\n",
      "1497  11498    26    17   0.54784   续约\n",
      "1498  11499    36    43   6.36115   续约\n",
      "1499  11500    28    25   1.48944   续约\n",
      "\n",
      "[1500 rows x 5 columns]>\n"
     ]
    }
   ],
   "source": [
    "#读入数据，划分训练集和测试集\n",
    "data=pd.read_csv(\"高斯贝叶斯.csv\")\n",
    "print(data.info)  #查看data数据信息\n",
    "features=[\"注册时长\",\"营收收入\",\"成本\"]\n",
    "x=data[features]\n",
    "y=data[\"是否续约\"]\n",
    "#划分训练集和测试集\n",
    "x_train,x_test,y_train,y_test=train_test_split(x,y,test_size=0.2)"
   ]
  },
  {
   "cell_type": "code",
   "execution_count": 3,
   "metadata": {
    "execution": {
     "iopub.execute_input": "2022-05-11T09:10:14.999089Z",
     "iopub.status.busy": "2022-05-11T09:10:14.998504Z",
     "iopub.status.idle": "2022-05-11T09:10:15.005048Z",
     "shell.execute_reply": "2022-05-11T09:10:15.004357Z",
     "shell.execute_reply.started": "2022-05-11T09:10:14.999056Z"
    },
    "scrolled": true
   },
   "outputs": [],
   "source": [
    "# 用于绘制数据特征分布\n",
    "def DrawHist(s):\n",
    "    l = len(s.columns)\n",
    "    fig = plt.figure(figsize=(10,l*3))\n",
    "    for i in range(0,1):\n",
    "        col_name = s.columns[i]\n",
    "        ax1 = fig.add_subplot(l,1,(i+1))  # 创建子图\n",
    "        ax1.set_title(col_name)\n",
    "        s[col_name].hist(bins=30,ax=ax1)\n",
    "        s[col_name].plot(kind = 'kde', secondary_y=True,ax=ax1)\n",
    "        plt.grid()"
   ]
  },
  {
   "cell_type": "code",
   "execution_count": 4,
   "metadata": {
    "execution": {
     "iopub.execute_input": "2022-05-11T09:10:15.006377Z",
     "iopub.status.busy": "2022-05-11T09:10:15.006158Z",
     "iopub.status.idle": "2022-05-11T09:10:15.755536Z",
     "shell.execute_reply": "2022-05-11T09:10:15.754697Z",
     "shell.execute_reply.started": "2022-05-11T09:10:15.006350Z"
    },
    "scrolled": true
   },
   "outputs": [
    {
     "data": {
      "image/png": "[encoded data removed]",
      "text/plain": [
       "<Figure size 720x648 with 2 Axes>"
      ]
     },
     "metadata": {
      "needs_background": "light"
     },
     "output_type": "display_data"
    }
   ],
   "source": [
    "#绘制数据分布，观察数据分布是否符合高斯分布\n",
    "DrawHist(x)"
   ]
  },
  {
   "cell_type": "code",
   "execution_count": 5,
   "metadata": {
    "execution": {
     "iopub.execute_input": "2022-05-11T09:10:15.757039Z",
     "iopub.status.busy": "2022-05-11T09:10:15.756798Z",
     "iopub.status.idle": "2022-05-11T09:10:15.857935Z",
     "shell.execute_reply": "2022-05-11T09:10:15.856987Z",
     "shell.execute_reply.started": "2022-05-11T09:10:15.757010Z"
    },
    "scrolled": true,
    "tags": []
   },
   "outputs": [
    {
     "name": "stdout",
     "output_type": "stream",
     "text": [
      "kcvs_mean:0.6673333333333333\n"
     ]
    }
   ],
   "source": [
    "#建立高斯贝叶斯模型，使用全部数据进行K折交叉验证模型得分，K=10\n",
    "gaussianNB=GaussianNB()\n",
    "#K折交叉验证\n",
    "kcvs=cross_val_score(gaussianNB,x,y,cv=10,scoring=make_scorer(accuracy_score))\n",
    "#求10次准确率的平均分\n",
    "kcvs_mean=kcvs.mean()\n",
    "print(\"kcvs_mean:{}\".format(kcvs_mean))"
   ]
  },
  {
   "cell_type": "code",
   "execution_count": 6,
   "metadata": {
    "execution": {
     "iopub.execute_input": "2022-05-11T09:10:15.859817Z",
     "iopub.status.busy": "2022-05-11T09:10:15.859202Z",
     "iopub.status.idle": "2022-05-11T09:10:16.074961Z",
     "shell.execute_reply": "2022-05-11T09:10:16.074269Z",
     "shell.execute_reply.started": "2022-05-11T09:10:15.859783Z"
    },
    "scrolled": false,
    "tags": []
   },
   "outputs": [
    {
     "data": {
      "text/plain": [
       "<matplotlib.axes._subplots.AxesSubplot at 0x7f7bc691a8d0>"
      ]
     },
     "execution_count": 6,
     "metadata": {},
     "output_type": "execute_result"
    },
    {
     "data": {
      "image/png": "[encoded data removed]",
      "text/plain": [
       "<Figure size 432x288 with 2 Axes>"
      ]
     },
     "metadata": {
      "needs_background": "light"
     },
     "output_type": "display_data"
    }
   ],
   "source": [
    "labels=[\"不续约\",\"续约\"]\n",
    "#使用训练集数据，训练模型\n",
    "gaussianNB.fit(x_train,y_train)\n",
    "#使用测试集数据，模型预测\n",
    "y_test_predict=gaussianNB.predict(x_test)\n",
    "#绘制混淆矩阵\n",
    "Cm=confusion_matrix(y_test,y_test_predict,labels=labels)\n",
    "Cm=pd.DataFrame(Cm,columns=labels,index=labels) #给混淆矩阵坐标轴加上标签\n",
    "#绘制热力图\n",
    "sns.heatmap(Cm,annot=True,fmt=\"d\")  #fmt=\"d\" 让数值不要以科学计数法显示"
   ]
  },
  {
   "cell_type": "code",
   "execution_count": 7,
   "metadata": {
    "execution": {
     "iopub.execute_input": "2022-05-11T09:10:16.117393Z",
     "iopub.status.busy": "2022-05-11T09:10:16.116443Z",
     "iopub.status.idle": "2022-05-11T09:10:16.141495Z",
     "shell.execute_reply": "2022-05-11T09:10:16.140787Z",
     "shell.execute_reply.started": "2022-05-11T09:10:16.117351Z"
    },
    "scrolled": true
   },
   "outputs": [
    {
     "name": "stdout",
     "output_type": "stream",
     "text": [
      "                 ID        注册时长        营收收入          成本\n",
      "count    325.000000  325.000000  325.000000  325.000000\n",
      "mean   20163.000000   33.833846   56.769231    6.200387\n",
      "std       93.963645   10.973738   51.103311    7.912646\n",
      "min    20001.000000   19.000000   13.000000    0.513600\n",
      "25%    20082.000000   25.000000   28.000000    1.737680\n",
      "50%    20163.000000   33.000000   40.000000    3.707550\n",
      "75%    20244.000000   40.000000   64.000000    7.549920\n",
      "max    20325.000000   68.000000  448.000000   71.801280\n"
     ]
    }
   ],
   "source": [
    "# 对华北地区进行预测\n",
    "data_north = pd.read_csv(\"华北地区.csv\")\n",
    "print(data_north.describe())"
   ]
  },
  {
   "cell_type": "code",
   "execution_count": 8,
   "metadata": {
    "execution": {
     "iopub.execute_input": "2022-05-11T09:10:16.143351Z",
     "iopub.status.busy": "2022-05-11T09:10:16.142615Z",
     "iopub.status.idle": "2022-05-11T09:10:16.161859Z",
     "shell.execute_reply": "2022-05-11T09:10:16.161160Z",
     "shell.execute_reply.started": "2022-05-11T09:10:16.143314Z"
    },
    "scrolled": true,
    "tags": []
   },
   "outputs": [
    {
     "data": {
      "text/html": [
       "<div>\n",
       "<style scoped>\n",
       "    .dataframe tbody tr th:only-of-type {\n",
       "        vertical-align: middle;\n",
       "    }\n",
       "\n",
       "    .dataframe tbody tr th {\n",
       "        vertical-align: top;\n",
       "    }\n",
       "\n",
       "    .dataframe thead th {\n",
       "        text-align: right;\n",
       "    }\n",
       "</style>\n",
       "<table border=\"1\" class=\"dataframe\">\n",
       "  <thead>\n",
       "    <tr style=\"text-align: right;\">\n",
       "      <th></th>\n",
       "      <th>ID</th>\n",
       "      <th>注册时长</th>\n",
       "      <th>营收收入</th>\n",
       "      <th>成本</th>\n",
       "      <th>预测续约</th>\n",
       "    </tr>\n",
       "  </thead>\n",
       "  <tbody>\n",
       "    <tr>\n",
       "      <th>0</th>\n",
       "      <td>20001</td>\n",
       "      <td>29</td>\n",
       "      <td>46</td>\n",
       "      <td>8.33316</td>\n",
       "      <td>续约</td>\n",
       "    </tr>\n",
       "    <tr>\n",
       "      <th>1</th>\n",
       "      <td>20002</td>\n",
       "      <td>26</td>\n",
       "      <td>32</td>\n",
       "      <td>7.19040</td>\n",
       "      <td>续约</td>\n",
       "    </tr>\n",
       "    <tr>\n",
       "      <th>2</th>\n",
       "      <td>20003</td>\n",
       "      <td>59</td>\n",
       "      <td>172</td>\n",
       "      <td>10.11150</td>\n",
       "      <td>续约</td>\n",
       "    </tr>\n",
       "    <tr>\n",
       "      <th>3</th>\n",
       "      <td>20004</td>\n",
       "      <td>22</td>\n",
       "      <td>24</td>\n",
       "      <td>0.95979</td>\n",
       "      <td>不续约</td>\n",
       "    </tr>\n",
       "    <tr>\n",
       "      <th>4</th>\n",
       "      <td>20005</td>\n",
       "      <td>56</td>\n",
       "      <td>87</td>\n",
       "      <td>17.97600</td>\n",
       "      <td>续约</td>\n",
       "    </tr>\n",
       "    <tr>\n",
       "      <th>...</th>\n",
       "      <td>...</td>\n",
       "      <td>...</td>\n",
       "      <td>...</td>\n",
       "      <td>...</td>\n",
       "      <td>...</td>\n",
       "    </tr>\n",
       "    <tr>\n",
       "      <th>320</th>\n",
       "      <td>20321</td>\n",
       "      <td>21</td>\n",
       "      <td>22</td>\n",
       "      <td>2.08971</td>\n",
       "      <td>续约</td>\n",
       "    </tr>\n",
       "    <tr>\n",
       "      <th>321</th>\n",
       "      <td>20322</td>\n",
       "      <td>36</td>\n",
       "      <td>62</td>\n",
       "      <td>11.74218</td>\n",
       "      <td>续约</td>\n",
       "    </tr>\n",
       "    <tr>\n",
       "      <th>322</th>\n",
       "      <td>20323</td>\n",
       "      <td>32</td>\n",
       "      <td>29</td>\n",
       "      <td>4.73368</td>\n",
       "      <td>续约</td>\n",
       "    </tr>\n",
       "    <tr>\n",
       "      <th>323</th>\n",
       "      <td>20324</td>\n",
       "      <td>28</td>\n",
       "      <td>66</td>\n",
       "      <td>0.67410</td>\n",
       "      <td>续约</td>\n",
       "    </tr>\n",
       "    <tr>\n",
       "      <th>324</th>\n",
       "      <td>20325</td>\n",
       "      <td>33</td>\n",
       "      <td>25</td>\n",
       "      <td>3.31272</td>\n",
       "      <td>续约</td>\n",
       "    </tr>\n",
       "  </tbody>\n",
       "</table>\n",
       "<p>325 rows × 5 columns</p>\n",
       "</div>"
      ],
      "text/plain": [
       "        ID  注册时长  营收收入        成本 预测续约\n",
       "0    20001    29    46   8.33316   续约\n",
       "1    20002    26    32   7.19040   续约\n",
       "2    20003    59   172  10.11150   续约\n",
       "3    20004    22    24   0.95979  不续约\n",
       "4    20005    56    87  17.97600   续约\n",
       "..     ...   ...   ...       ...  ...\n",
       "320  20321    21    22   2.08971   续约\n",
       "321  20322    36    62  11.74218   续约\n",
       "322  20323    32    29   4.73368   续约\n",
       "323  20324    28    66   0.67410   续约\n",
       "324  20325    33    25   3.31272   续约\n",
       "\n",
       "[325 rows x 5 columns]"
      ]
     },
     "execution_count": 8,
     "metadata": {},
     "output_type": "execute_result"
    }
   ],
   "source": [
    "data_north[\"预测续约\"] = gaussianNB.predict(data_north[[\"注册时长\",\"营收收入\",\"成本\"]])   # 预测是否续约\n",
    "data_north"
   ]
  }
 ],
 "metadata": {
  "kernelspec": {
   "display_name": "Python 3",
   "language": "python",
   "name": "py35-paddle1.2.0"
  },
  "language_info": {
   "codemirror_mode": {
    "name": "ipython",
    "version": 3
   },
   "file_extension": ".py",
   "mimetype": "text/x-python",
   "name": "python",
   "nbconvert_exporter": "python",
   "pygments_lexer": "ipython3",
   "version": "3.7.4"
  }
 },
 "nbformat": 4,
 "nbformat_minor": 4
}
