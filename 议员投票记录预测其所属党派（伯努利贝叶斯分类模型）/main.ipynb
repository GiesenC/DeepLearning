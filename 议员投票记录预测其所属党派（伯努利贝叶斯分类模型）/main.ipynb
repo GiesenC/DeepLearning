{
 "cells": [
  {
   "cell_type": "markdown",
   "metadata": {},
   "source": [
    "请点击[此处](https://ai.baidu.com/docs#/AIStudio_Project_Notebook/a38e5576)查看本环境基本用法.  <br>\n",
    "Please click [here ](https://ai.baidu.com/docs#/AIStudio_Project_Notebook/a38e5576) for more detailed instructions. "
   ]
  },
  {
   "cell_type": "markdown",
   "metadata": {},
   "source": [
    "导入所需要的包"
   ]
  },
  {
   "cell_type": "code",
   "execution_count": 1,
   "metadata": {
    "execution": {
     "iopub.execute_input": "2022-04-22T07:39:08.551105Z",
     "iopub.status.busy": "2022-04-22T07:39:08.550768Z",
     "iopub.status.idle": "2022-04-22T07:39:09.858283Z",
     "shell.execute_reply": "2022-04-22T07:39:09.857577Z",
     "shell.execute_reply.started": "2022-04-22T07:39:08.551079Z"
    },
    "scrolled": true,
    "tags": []
   },
   "outputs": [],
   "source": [
    "import numpy as np\n",
    "import pandas as pd\n",
    "from sklearn.preprocessing import OneHotEncoder\n",
    "from sklearn.naive_bayes import BernoulliNB\n",
    "from sklearn.model_selection import cross_val_score\n",
    "from sklearn.metrics import accuracy_score,make_scorer,confusion_matrix\n",
    "import seaborn as sns"
   ]
  },
  {
   "cell_type": "markdown",
   "metadata": {},
   "source": [
    "测试代码begin"
   ]
  },
  {
   "cell_type": "code",
   "execution_count": 2,
   "metadata": {
    "execution": {
     "iopub.execute_input": "2022-04-22T07:39:09.860704Z",
     "iopub.status.busy": "2022-04-22T07:39:09.860241Z",
     "iopub.status.idle": "2022-04-22T07:39:09.871384Z",
     "shell.execute_reply": "2022-04-22T07:39:09.870876Z",
     "shell.execute_reply.started": "2022-04-22T07:39:09.860673Z"
    },
    "scrolled": false,
    "tags": []
   },
   "outputs": [
    {
     "name": "stdout",
     "output_type": "stream",
     "text": [
      "[[0. 1. 1. 0. 0.]\n",
      " [1. 0. 0. 1. 0.]\n",
      " [1. 0. 0. 0. 1.]\n",
      " [0. 1. 0. 1. 0.]\n",
      " [1. 0. 1. 0. 0.]]\n"
     ]
    }
   ],
   "source": [
    "X=[[\"男\",\"红\"],[\"女\",\"绿\"],[\"女\",\"蓝\"],[\"男\",\"绿\"],[\"女\",\"红\"]]\n",
    "df=pd.DataFrame(X,columns=[\"性别\",\"颜色\"])\n",
    "df\n",
    "#创建独热编码器\n",
    "onehot=OneHotEncoder()\n",
    "onehot.fit(df)#训练独热编码器，得到转换规则\n",
    "#转换数据\n",
    "d=onehot.transform(df).toarray()\n",
    "print(d)"
   ]
  },
  {
   "cell_type": "code",
   "execution_count": 3,
   "metadata": {
    "execution": {
     "iopub.execute_input": "2022-04-22T07:39:09.872809Z",
     "iopub.status.busy": "2022-04-22T07:39:09.872240Z",
     "iopub.status.idle": "2022-04-22T07:39:09.892469Z",
     "shell.execute_reply": "2022-04-22T07:39:09.891752Z",
     "shell.execute_reply.started": "2022-04-22T07:39:09.872782Z"
    },
    "scrolled": true,
    "tags": []
   },
   "outputs": [
    {
     "name": "stdout",
     "output_type": "stream",
     "text": [
      "[[0. 1.]\n",
      " [1. 0.]\n",
      " [1. 0.]\n",
      " [0. 1.]\n",
      " [1. 0.]]\n"
     ]
    },
    {
     "data": {
      "text/html": [
       "<div>\n",
       "<style scoped>\n",
       "    .dataframe tbody tr th:only-of-type {\n",
       "        vertical-align: middle;\n",
       "    }\n",
       "\n",
       "    .dataframe tbody tr th {\n",
       "        vertical-align: top;\n",
       "    }\n",
       "\n",
       "    .dataframe thead th {\n",
       "        text-align: right;\n",
       "    }\n",
       "</style>\n",
       "<table border=\"1\" class=\"dataframe\">\n",
       "  <thead>\n",
       "    <tr style=\"text-align: right;\">\n",
       "      <th></th>\n",
       "      <th>性别</th>\n",
       "      <th>颜色</th>\n",
       "      <th>性别x1</th>\n",
       "      <th>性别x2</th>\n",
       "    </tr>\n",
       "  </thead>\n",
       "  <tbody>\n",
       "    <tr>\n",
       "      <th>0</th>\n",
       "      <td>男</td>\n",
       "      <td>蓝</td>\n",
       "      <td>0.0</td>\n",
       "      <td>1.0</td>\n",
       "    </tr>\n",
       "    <tr>\n",
       "      <th>1</th>\n",
       "      <td>女</td>\n",
       "      <td>红</td>\n",
       "      <td>1.0</td>\n",
       "      <td>0.0</td>\n",
       "    </tr>\n",
       "    <tr>\n",
       "      <th>2</th>\n",
       "      <td>女</td>\n",
       "      <td>红</td>\n",
       "      <td>1.0</td>\n",
       "      <td>0.0</td>\n",
       "    </tr>\n",
       "    <tr>\n",
       "      <th>3</th>\n",
       "      <td>男</td>\n",
       "      <td>蓝</td>\n",
       "      <td>0.0</td>\n",
       "      <td>1.0</td>\n",
       "    </tr>\n",
       "    <tr>\n",
       "      <th>4</th>\n",
       "      <td>女</td>\n",
       "      <td>蓝</td>\n",
       "      <td>1.0</td>\n",
       "      <td>0.0</td>\n",
       "    </tr>\n",
       "  </tbody>\n",
       "</table>\n",
       "</div>"
      ],
      "text/plain": [
       "  性别 颜色  性别x1  性别x2\n",
       "0  男  蓝   0.0   1.0\n",
       "1  女  红   1.0   0.0\n",
       "2  女  红   1.0   0.0\n",
       "3  男  蓝   0.0   1.0\n",
       "4  女  蓝   1.0   0.0"
      ]
     },
     "execution_count": 3,
     "metadata": {},
     "output_type": "execute_result"
    }
   ],
   "source": [
    "X=[[\"男\",\"蓝\"],[\"女\",\"红\"],[\"女\",\"红\"],[\"男\",\"蓝\"],[\"女\",\"蓝\"]]\n",
    "df=pd.DataFrame(X,columns=[\"性别\",\"颜色\"])\n",
    "onehot=OneHotEncoder()\n",
    "onehot.fit(df[[\"性别\"]])#训练独热编码器，得到转换规则\n",
    "#转换数据\n",
    "d=onehot.transform(df[[\"性别\"]]).toarray()\n",
    "print(d)\n",
    "#数组转数据框\n",
    "df_sex=pd.DataFrame(d,columns=[\"性别x1\",\"性别x2\"])\n",
    "#把df_sex拼接在df后\n",
    "df=df.join(df_sex)\n",
    "df"
   ]
  },
  {
   "cell_type": "markdown",
   "metadata": {},
   "source": [
    "测试代码end"
   ]
  },
  {
   "cell_type": "markdown",
   "metadata": {},
   "source": [
    "加载数据，空值处理，独热编码处理，特征和类别数据划分"
   ]
  },
  {
   "cell_type": "code",
   "execution_count": 4,
   "metadata": {
    "execution": {
     "iopub.execute_input": "2022-04-22T07:39:09.893610Z",
     "iopub.status.busy": "2022-04-22T07:39:09.893436Z",
     "iopub.status.idle": "2022-04-22T07:39:09.914363Z",
     "shell.execute_reply": "2022-04-22T07:39:09.913719Z",
     "shell.execute_reply.started": "2022-04-22T07:39:09.893589Z"
    },
    "scrolled": true,
    "tags": []
   },
   "outputs": [],
   "source": [
    "data=pd.read_csv(\"议案投票.csv\")\n",
    "#print(data.info()) #查看数据信息,可以看出大部分列都有缺失值的情况\n",
    "#把所有缺失值填充None\n",
    "data=data.fillna(\"None\")\n",
    "#print(data.info()) #查看数据信息,可以看出大部分列都有缺失值的情况\n",
    "x=data.iloc[:,3:]#从第4列开始获取到最后一列\n",
    "#features_name=list(x.columns)  #获取特征名\n",
    "#独热编码处理\n",
    "#创建独热编码对象\n",
    "onehot=OneHotEncoder()\n",
    "#训练独热编码器，得到转换规则\n",
    "onehot.fit(x)\n",
    "#转换数据\n",
    "oneHotData=onehot.transform(x).toarray()\n",
    "#print(oneHotData) #打印转换后的数据\n",
    "#划分特征和类别\n",
    "x=oneHotData\n",
    "y=data[\"Party\"]   #党派只有D,R两个党派"
   ]
  },
  {
   "cell_type": "markdown",
   "metadata": {},
   "source": [
    "建立伯努利贝叶斯分类模型，K折交叉验证，预测"
   ]
  },
  {
   "cell_type": "code",
   "execution_count": 5,
   "metadata": {
    "execution": {
     "iopub.execute_input": "2022-04-22T07:39:09.915694Z",
     "iopub.status.busy": "2022-04-22T07:39:09.915289Z",
     "iopub.status.idle": "2022-04-22T07:39:09.946775Z",
     "shell.execute_reply": "2022-04-22T07:39:09.946212Z",
     "shell.execute_reply.started": "2022-04-22T07:39:09.915668Z"
    },
    "scrolled": true,
    "tags": []
   },
   "outputs": [
    {
     "name": "stdout",
     "output_type": "stream",
     "text": [
      "10次交叉验证的平均准确率：0.9908562367864693\n"
     ]
    }
   ],
   "source": [
    "#创建伯努利贝叶斯分类模型\n",
    "BNBModel=BernoulliNB()\n",
    "#K折交叉验证，验证模型的准确率\n",
    "cvs=cross_val_score(\n",
    "    BNBModel,x,y,cv=10,scoring=make_scorer(accuracy_score)\n",
    ")\n",
    "print(\"10次交叉验证的平均准确率：{}\".format(cvs.mean()))"
   ]
  },
  {
   "cell_type": "code",
   "execution_count": 6,
   "metadata": {
    "execution": {
     "iopub.execute_input": "2022-04-22T07:39:09.948082Z",
     "iopub.status.busy": "2022-04-22T07:39:09.947692Z",
     "iopub.status.idle": "2022-04-22T07:39:10.235183Z",
     "shell.execute_reply": "2022-04-22T07:39:10.234448Z",
     "shell.execute_reply.started": "2022-04-22T07:39:09.948054Z"
    },
    "scrolled": false,
    "tags": []
   },
   "outputs": [
    {
     "data": {
      "text/plain": [
       "<matplotlib.axes._subplots.AxesSubplot at 0x7f1a2d234150>"
      ]
     },
     "execution_count": 6,
     "metadata": {},
     "output_type": "execute_result"
    },
    {
     "data": {
      "image/png": "[encoded data removed]",
      "text/plain": [
       "<Figure size 432x288 with 2 Axes>"
      ]
     },
     "metadata": {
      "needs_background": "light"
     },
     "output_type": "display_data"
    }
   ],
   "source": [
    "#对数据进行预测，通过混淆矩阵观察总体效果\n",
    "#训练模型\n",
    "BNBModel.fit(x,y)\n",
    "data[\"Predict Party\"]=BNBModel.predict(x)\n",
    "cm=confusion_matrix(data[\"Party\"],data[\"Predict Party\"],labels=[\"D\",\"R\"])\n",
    "#混淆矩阵加轴标签\n",
    "cm=pd.DataFrame(cm,columns=[\"D\",\"R\"],index=[\"D\",\"R\"])\n",
    "#通过热力图显示混淆矩阵\n",
    "sns.heatmap(cm,annot=True,fmt=\"d\")"
   ]
  }
 ],
 "metadata": {
  "kernelspec": {
   "display_name": "Python 3",
   "language": "python",
   "name": "py35-paddle1.2.0"
  },
  "language_info": {
   "codemirror_mode": {
    "name": "ipython",
    "version": 3
   },
   "file_extension": ".py",
   "mimetype": "text/x-python",
   "name": "python",
   "nbconvert_exporter": "python",
   "pygments_lexer": "ipython3",
   "version": "3.7.4"
  }
 },
 "nbformat": 4,
 "nbformat_minor": 4
}
