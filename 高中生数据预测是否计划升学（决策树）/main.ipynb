{
 "cells": [
  {
   "cell_type": "markdown",
   "metadata": {},
   "source": [
    "请点击[此处](https://ai.baidu.com/docs#/AIStudio_Project_Notebook/a38e5576)查看本环境基本用法.  <br>\n",
    "Please click [here ](https://ai.baidu.com/docs#/AIStudio_Project_Notebook/a38e5576) for more detailed instructions. "
   ]
  },
  {
   "cell_type": "markdown",
   "metadata": {},
   "source": [
    "# 导入所需要的包"
   ]
  },
  {
   "cell_type": "code",
   "execution_count": 1,
   "metadata": {
    "execution": {
     "iopub.execute_input": "2022-04-13T13:28:09.050287Z",
     "iopub.status.busy": "2022-04-13T13:28:09.049654Z",
     "iopub.status.idle": "2022-04-13T13:28:10.405248Z",
     "shell.execute_reply": "2022-04-13T13:28:10.404407Z",
     "shell.execute_reply.started": "2022-04-13T13:28:09.050238Z"
    },
    "scrolled": true,
    "tags": []
   },
   "outputs": [],
   "source": [
    "import pandas as pd\n",
    "from sklearn.preprocessing import OneHotEncoder\n",
    "from sklearn.tree import DecisionTreeClassifier\n",
    "from sklearn.model_selection import cross_val_score"
   ]
  },
  {
   "cell_type": "markdown",
   "metadata": {},
   "source": [
    "# 导入数据，数据处理"
   ]
  },
  {
   "cell_type": "code",
   "execution_count": 2,
   "metadata": {
    "execution": {
     "iopub.execute_input": "2022-04-13T13:28:12.910741Z",
     "iopub.status.busy": "2022-04-13T13:28:12.909695Z",
     "iopub.status.idle": "2022-04-13T13:28:12.949537Z",
     "shell.execute_reply": "2022-04-13T13:28:12.948704Z",
     "shell.execute_reply.started": "2022-04-13T13:28:12.910689Z"
    },
    "scrolled": true,
    "tags": []
   },
   "outputs": [
    {
     "name": "stdout",
     "output_type": "stream",
     "text": [
      "<class 'pandas.core.frame.DataFrame'>\n",
      "RangeIndex: 8000 entries, 0 to 7999\n",
      "Data columns (total 6 columns):\n",
      " #   Column  Non-Null Count  Dtype  \n",
      "---  ------  --------------  -----  \n",
      " 0   x0_女    8000 non-null   float64\n",
      " 1   x0_男    8000 non-null   float64\n",
      " 2   x1_不鼓励  8000 non-null   float64\n",
      " 3   x1_鼓励   8000 non-null   float64\n",
      " 4   父母收入    8000 non-null   int64  \n",
      " 5   IQ      8000 non-null   int64  \n",
      "dtypes: float64(4), int64(2)\n",
      "memory usage: 375.1 KB\n",
      "None\n"
     ]
    }
   ],
   "source": [
    "#导入数据\n",
    "data=pd.read_csv(\"决策树.csv\")\n",
    "#需要进行独热编码的列\n",
    "oneHotColumns=[\"性别\",\"父母鼓励\"]\n",
    "#创建独热编码对象\n",
    "oneHotEncoder=OneHotEncoder()\n",
    "#训练热度编码器\n",
    "oneHotEncoder.fit(data[oneHotColumns])\n",
    "#转换数据为独热编码，二维数组\n",
    "oneHotData=oneHotEncoder.transform(data[oneHotColumns]).toarray()\n",
    "oneHotData\n",
    "#把二维数组转DataFrame，oneHotEncoder.get_feature_names()获取独热编码器训练数据后所产生的列名\n",
    "df_onehotData=pd.DataFrame(oneHotData,columns=oneHotEncoder.get_feature_names())\n",
    "df_onehotData\n",
    "#把独热编码DataFrame与\"父母收入\",\"IQ\"的Dataframe拼接\n",
    "x=df_onehotData.join(data[[\"父母收入\",\"IQ\"]])\n",
    "y=data[\"升学计划\"]\n",
    "x\n",
    "print(x.info())"
   ]
  },
  {
   "cell_type": "markdown",
   "metadata": {},
   "source": [
    "# 创建决策树，并K折交叉验证"
   ]
  },
  {
   "cell_type": "code",
   "execution_count": 8,
   "metadata": {
    "execution": {
     "iopub.execute_input": "2022-04-13T13:32:33.866095Z",
     "iopub.status.busy": "2022-04-13T13:32:33.864681Z",
     "iopub.status.idle": "2022-04-13T13:32:33.870842Z",
     "shell.execute_reply": "2022-04-13T13:32:33.869968Z",
     "shell.execute_reply.started": "2022-04-13T13:32:33.866031Z"
    },
    "scrolled": true
   },
   "outputs": [],
   "source": [
    "from sklearn.model_selection import GridSearchCV"
   ]
  },
  {
   "cell_type": "code",
   "execution_count": 11,
   "metadata": {
    "execution": {
     "iopub.execute_input": "2022-04-13T13:39:11.022775Z",
     "iopub.status.busy": "2022-04-13T13:39:11.021785Z",
     "iopub.status.idle": "2022-04-13T13:40:20.252961Z",
     "shell.execute_reply": "2022-04-13T13:40:20.251990Z",
     "shell.execute_reply.started": "2022-04-13T13:39:11.022732Z"
    },
    "scrolled": true,
    "tags": []
   },
   "outputs": [
    {
     "name": "stdout",
     "output_type": "stream",
     "text": [
      "0.8391250000000001\n",
      "{'max_depth': 6, 'max_leaf_nodes': 14}\n"
     ]
    }
   ],
   "source": [
    "#网络搜索，寻找最优参数\n",
    "paramGrid=dict(\n",
    "    max_depth=range(4,20),   #0-19\n",
    "    max_leaf_nodes=range(4,20)\n",
    ")\n",
    "dtModel=DecisionTreeClassifier()\n",
    "#创建网络搜索对象，设置参数\n",
    "grid=GridSearchCV(\n",
    "    dtModel,param_grid=paramGrid,\n",
    "    cv=10,return_train_score=True,\n",
    "    n_jobs=10\n",
    ")\n",
    "#开始训练\n",
    "grid=grid.fit(x,y)\n",
    "#打印最优准确率\n",
    "print(grid.best_score_)\n",
    "#打印最优的超参数\n",
    "print(grid.best_params_)\n"
   ]
  },
  {
   "cell_type": "code",
   "execution_count": 15,
   "metadata": {
    "execution": {
     "iopub.execute_input": "2022-04-13T13:42:51.443089Z",
     "iopub.status.busy": "2022-04-13T13:42:51.441863Z",
     "iopub.status.idle": "2022-04-13T13:42:51.672337Z",
     "shell.execute_reply": "2022-04-13T13:42:51.671392Z",
     "shell.execute_reply.started": "2022-04-13T13:42:51.443026Z"
    },
    "scrolled": true,
    "tags": []
   },
   "outputs": [
    {
     "data": {
      "text/plain": [
       "0.835375"
      ]
     },
     "execution_count": 15,
     "metadata": {},
     "output_type": "execute_result"
    }
   ],
   "source": [
    "#创建决策树的深度为3，最大叶子节点数为7\n",
    "dtModel=DecisionTreeClassifier(\n",
    "    criterion=\"entropy\",\n",
    "    max_depth=6,\n",
    "    max_leaf_nodes=14\n",
    ")\n",
    "cvs=cross_val_score(dtModel,x,y,cv=10)\n",
    "cvs.mean()"
   ]
  },
  {
   "cell_type": "markdown",
   "metadata": {},
   "source": [
    "# 决策树图形化"
   ]
  },
  {
   "cell_type": "code",
   "execution_count": 4,
   "metadata": {
    "execution": {
     "iopub.execute_input": "2022-04-13T13:28:26.355862Z",
     "iopub.status.busy": "2022-04-13T13:28:26.354300Z",
     "iopub.status.idle": "2022-04-13T13:28:31.420121Z",
     "shell.execute_reply": "2022-04-13T13:28:31.418787Z",
     "shell.execute_reply.started": "2022-04-13T13:28:26.355807Z"
    },
    "scrolled": true,
    "tags": []
   },
   "outputs": [
    {
     "name": "stdout",
     "output_type": "stream",
     "text": [
      "Looking in indexes: https://pypi.tuna.tsinghua.edu.cn/simple\n",
      "Collecting pydot_ng\n",
      "  Downloading https://pypi.tuna.tsinghua.edu.cn/packages/3c/5b/9a08333f2d70d404ffe42cea4f50159c4ad94feaa4d7585551c05cacef46/pydot_ng-2.0.0-py2.py3-none-any.whl (20 kB)\n",
      "Requirement already satisfied: pyparsing>=2.0.1 in /opt/conda/envs/python35-paddle120-env/lib/python3.7/site-packages (from pydot_ng) (3.0.7)\n",
      "Installing collected packages: pydot_ng\n",
      "Successfully installed pydot_ng-2.0.0\n"
     ]
    }
   ],
   "source": [
    "# 安装pydot_ng\n",
    "!pip install pydot_ng"
   ]
  },
  {
   "cell_type": "code",
   "execution_count": 5,
   "metadata": {
    "execution": {
     "iopub.execute_input": "2022-04-13T13:28:34.133948Z",
     "iopub.status.busy": "2022-04-13T13:28:34.133384Z",
     "iopub.status.idle": "2022-04-13T13:28:34.237291Z",
     "shell.execute_reply": "2022-04-13T13:28:34.236498Z",
     "shell.execute_reply.started": "2022-04-13T13:28:34.133885Z"
    },
    "scrolled": true,
    "tags": []
   },
   "outputs": [
    {
     "name": "stderr",
     "output_type": "stream",
     "text": [
      "/opt/conda/envs/python35-paddle120-env/lib/python3.7/site-packages/sklearn/externals/six.py:31: FutureWarning: The module is deprecated in version 0.21 and will be removed in version 0.23 since we've dropped support for Python 2.7. Please rely on the official version of six (https://pypi.org/project/six/).\n",
      "  \"(https://pypi.org/project/six/).\", FutureWarning)\n"
     ]
    }
   ],
   "source": [
    "import pydot_ng as pydot\n",
    "from sklearn.externals.six import StringIO\n",
    "from sklearn.tree import export_graphviz"
   ]
  },
  {
   "cell_type": "code",
   "execution_count": 6,
   "metadata": {
    "execution": {
     "iopub.execute_input": "2022-04-13T13:28:40.517639Z",
     "iopub.status.busy": "2022-04-13T13:28:40.516385Z",
     "iopub.status.idle": "2022-04-13T13:29:30.571969Z",
     "shell.execute_reply": "2022-04-13T13:29:30.571130Z",
     "shell.execute_reply.started": "2022-04-13T13:28:40.517593Z"
    },
    "scrolled": false,
    "tags": []
   },
   "outputs": [
    {
     "name": "stdout",
     "output_type": "stream",
     "text": [
      "dot: graph is too large for cairo-renderer bitmaps. Scaling by 0.549478 to fit\n",
      "\n"
     ]
    },
    {
     "data": {
      "text/plain": [
       "True"
      ]
     },
     "execution_count": 6,
     "metadata": {},
     "output_type": "execute_result"
    }
   ],
   "source": [
    "\n",
    "#训练模型\n",
    "dtModel.fit(x,y)\n",
    "#创建StringIO,准备把dot写入StringIO\n",
    "dot_data=StringIO()\n",
    "#获取x列名\n",
    "f=list(x.columns)\n",
    "#把决策树转为dot文件写入StringIO\n",
    "export_graphviz(\n",
    "    dtModel,\n",
    "    out_file=dot_data,\n",
    "    class_names=[\"不计划\",\"计划\"],\n",
    "    feature_names=f,\n",
    "    filled=True,rounded=True,special_characters=True\n",
    ")\n",
    "#把dot转png\n",
    "graph=pydot.graph_from_dot_data(\n",
    "    dot_data.getvalue()\n",
    ")\n",
    "graph.write_png(\n",
    "    \"opt.png\"\n",
    ")"
   ]
  },
  {
   "cell_type": "markdown",
   "metadata": {},
   "source": [
    "# 预测"
   ]
  },
  {
   "cell_type": "code",
   "execution_count": 25,
   "metadata": {
    "execution": {
     "iopub.execute_input": "2022-04-12T04:39:25.154905Z",
     "iopub.status.busy": "2022-04-12T04:39:25.154398Z",
     "iopub.status.idle": "2022-04-12T04:39:25.168642Z",
     "shell.execute_reply": "2022-04-12T04:39:25.168020Z",
     "shell.execute_reply.started": "2022-04-12T04:39:25.154870Z"
    },
    "scrolled": true,
    "tags": []
   },
   "outputs": [
    {
     "data": {
      "text/plain": [
       "array(['不计划'], dtype=object)"
      ]
     },
     "execution_count": 25,
     "metadata": {},
     "output_type": "execute_result"
    }
   ],
   "source": [
    "px=pd.DataFrame({\n",
    "    \"性别\":[\"男\"],\n",
    "    \"父母收入\":[40000],\n",
    "    \"IQ\":[120],\n",
    "    \"父母鼓励\":[\"鼓励\"],\n",
    "    \"升学计划\":[\"不计划\"]\n",
    "})\n",
    "#使用上面训练好的独热编码器，对性别、父母鼓励进行独热编码\n",
    "px_oneHotData=oneHotEncoder.transform(px[[\"性别\",\"父母鼓励\"]]).toarray()\n",
    "px_oneHotData\n",
    "#把独热编码后的数组转为DataFrame\n",
    "df_px_oneHotData=pd.DataFrame(px_oneHotData,columns=oneHotEncoder.get_feature_names())\n",
    "df_px_oneHotData\n",
    "#加入\"父母收入\",\"IQ\"\n",
    "px=px[[\"父母收入\",\"IQ\"]].join(df_px_oneHotData)\n",
    "px\n",
    "#使用训练好的决策树模型进行预测\n",
    "r=dtModel.predict(px)\n",
    "r"
   ]
  }
 ],
 "metadata": {
  "kernelspec": {
   "display_name": "Python 3",
   "language": "python",
   "name": "py35-paddle1.2.0"
  },
  "language_info": {
   "codemirror_mode": {
    "name": "ipython",
    "version": 3
   },
   "file_extension": ".py",
   "mimetype": "text/x-python",
   "name": "python",
   "nbconvert_exporter": "python",
   "pygments_lexer": "ipython3",
   "version": "3.7.4"
  }
 },
 "nbformat": 4,
 "nbformat_minor": 4
}
